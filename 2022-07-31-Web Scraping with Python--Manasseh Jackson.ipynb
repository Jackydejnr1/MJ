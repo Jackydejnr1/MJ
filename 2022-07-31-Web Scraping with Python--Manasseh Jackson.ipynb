{
 "cells": [
  {
   "cell_type": "markdown",
   "id": "dd57110f",
   "metadata": {},
   "source": [
    "# Task\n",
    "Here, I write a simple program to create a function which inspects and scrapes the timesjobs.com website for most recently publised job openings whose specific skills requirement is 'python'. The program would also save the scraped jod details as files inside a folder in the same directory and runs every ten minutes! Here I make use of the BeautifulSoup library, request, lxml and time to carry out the task. Let's get started!"
   ]
  },
  {
   "cell_type": "code",
   "execution_count": 1,
   "id": "7e54e15b",
   "metadata": {},
   "outputs": [],
   "source": [
    "#Import the necessary dependencies\n",
    "from bs4 import BeautifulSoup\n",
    "import requests\n",
    "import time "
   ]
  },
  {
   "cell_type": "code",
   "execution_count": null,
   "id": "4936d723",
   "metadata": {},
   "outputs": [
    {
     "name": "stdout",
     "output_type": "stream",
     "text": [
      "Enter some skills that you are not familiar with: \n",
      ">:sql\n",
      "filtering out: sql\n",
      "File Saved:0\n",
      "File Saved:1\n",
      "File Saved:2\n",
      "File Saved:3\n",
      "File Saved:5\n",
      "File Saved:7\n",
      "File Saved:8\n",
      "File Saved:10\n",
      "File Saved:11\n",
      "File Saved:12\n",
      "File Saved:13\n",
      "File Saved:14\n",
      "File Saved:15\n",
      "File Saved:16\n",
      "File Saved:17\n",
      "File Saved:18\n",
      "File Saved:19\n",
      "File Saved:20\n",
      "File Saved:21\n",
      "File Saved:23\n",
      "File Saved:24\n",
      "Waiting: 10 Minutes ...\n"
     ]
    }
   ],
   "source": [
    "#visit the site at www.timesjobs.com, search for 'python', grab the url and store in a variable called html_text.\n",
    "html_text = requests.get('https://www.timesjobs.com/candidate/job-search.html?searchType=personalizedSearch&from=submit&txtKeywords=python&txtLocation=').text\n",
    "\n",
    "print('Enter some skills that you are not familiar with: ')\n",
    "unfamiliar_skills = input('>:')\n",
    "print(f'filtering out: {unfamiliar_skills}')  # ctrl + ] to indent the whole code block\n",
    "\n",
    "def My_Job_Finder(): #Next, create an instance of BeautifulSoup that takes in the variable above, and the lxml method of parsing\n",
    "    soup = BeautifulSoup(html_text, 'lxml')\n",
    "    jobs = soup.find_all('li', class_ = \"clearfix job-bx wht-shd-bx\")#grab all job openings under the li tag with the specified class\n",
    "    for index, job in enumerate(jobs):\n",
    "        date_published = job.find('span', class_= 'sim-posted').span.text\n",
    "        if 'few' in date_published:\n",
    "            company_name = job.find('h3', class_= 'joblist-comp-name').text.replace(' ','')\n",
    "            skills = job.find('span', class_='srp-skills').text.replace(' ','')\n",
    "            more_info = job.header.h2.a['href']\n",
    "            if unfamiliar_skills not in skills:\n",
    "                with open(f'My Job Posts/{index}.txt', 'w') as f:\n",
    "                    f.write(f'Company Name: {company_name.strip()}\\n'.upper())\n",
    "                    f.write(f'Required Skills:{skills.strip()}\\n')\n",
    "                    f.write(f'More Info: {more_info}')\n",
    "            print(f'File Saved:{index}')\n",
    "if __name__ == '__main__':\n",
    "    while True:\n",
    "        My_Job_Finder()\n",
    "        waiting_time = 10\n",
    "        print(f'Waiting: {waiting_time} Minutes ...')\n",
    "        time.sleep(waiting_time * 60)\n"
   ]
  },
  {
   "cell_type": "code",
   "execution_count": null,
   "id": "c3966aad",
   "metadata": {},
   "outputs": [],
   "source": []
  }
 ],
 "metadata": {
  "kernelspec": {
   "display_name": "Python 3 (ipykernel)",
   "language": "python",
   "name": "python3"
  },
  "language_info": {
   "codemirror_mode": {
    "name": "ipython",
    "version": 3
   },
   "file_extension": ".py",
   "mimetype": "text/x-python",
   "name": "python",
   "nbconvert_exporter": "python",
   "pygments_lexer": "ipython3",
   "version": "3.9.7"
  }
 },
 "nbformat": 4,
 "nbformat_minor": 5
}
